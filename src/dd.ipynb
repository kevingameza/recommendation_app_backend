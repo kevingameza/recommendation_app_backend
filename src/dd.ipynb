{
 "cells": [
  {
   "cell_type": "code",
   "execution_count": 68,
   "metadata": {},
   "outputs": [],
   "source": [
    "import csv\n",
    "from sqlalchemy import create_engine\n",
    "from sqlalchemy.orm import sessionmaker\n",
    "from models import UserDB, CancionDB, InteraccionDB\n",
    "import pandas as pd\n",
    "from tqdm import tqdm\n",
    "\n",
    "# Crear una sesión de SQLAlchemy\n",
    "engine = create_engine('sqlite:///database.db')\n",
    "Session = sessionmaker(bind=engine)\n",
    "session = Session()\n",
    "\n",
    "# Leer el archivo CSV utilizando Pandas\n",
    "df = pd.read_csv('df.csv')\n",
    "users = df.drop_duplicates('userid')\n",
    "songs = df.drop_duplicates('traname')"
   ]
  },
  {
   "cell_type": "code",
   "execution_count": 69,
   "metadata": {},
   "outputs": [
    {
     "name": "stderr",
     "output_type": "stream",
     "text": [
      "Procesando filas:   0%|          | 0/992 [00:00<?, ?it/s]"
     ]
    },
    {
     "name": "stderr",
     "output_type": "stream",
     "text": [
      "Procesando filas: 100%|██████████| 992/992 [00:00<00:00, 11374.45it/s]\n"
     ]
    }
   ],
   "source": [
    "from sqlalchemy.exc import IntegrityError  # Asegúrate de importar IntegrityError\n",
    "\n",
    "\n",
    "# Obtener el total de filas en el DataFrame\n",
    "total_rows = len(users)\n",
    "\n",
    "# Inicializar la barra de progreso\n",
    "progress_bar = tqdm(total=total_rows, desc=\"Procesando filas\")\n",
    "\n",
    "# Iterar sobre cada fila del DataFrame\n",
    "for index, row in users.iterrows():\n",
    "    try:\n",
    "        # Intentar crear y agregar un nuevo usuario\n",
    "        user = UserDB(username=row['userid'], password=row['userid'])\n",
    "        session.add(user)\n",
    "        \n",
    "    except IntegrityError:\n",
    "        # Si hay un error de integridad, hacer rollback de la sesión para evitar abortar todo el proceso\n",
    "        session.rollback()\n",
    "        # Aquí podrías registrar el error o hacer algo con el registro que causó el problema\n",
    "        print(f\"Error al insertar usuario o canción para la fila {index}. Usuario o canción ya existen.\")\n",
    "    \n",
    "    # Actualizar la barra de progreso independientemente de si hubo un error o no\n",
    "\n",
    "    progress_bar.update(1)\n",
    "session.commit()\n",
    "\n",
    "# Cerrar la barra de progreso\n",
    "progress_bar.close()\n"
   ]
  },
  {
   "cell_type": "code",
   "execution_count": 70,
   "metadata": {},
   "outputs": [
    {
     "name": "stderr",
     "output_type": "stream",
     "text": [
      "Procesando filas:   0%|          | 0/1083471 [00:00<?, ?it/s]"
     ]
    },
    {
     "name": "stderr",
     "output_type": "stream",
     "text": [
      "Procesando filas: 100%|██████████| 1083471/1083471 [01:35<00:00, 11350.90it/s]\n"
     ]
    }
   ],
   "source": [
    "from sqlalchemy.exc import IntegrityError  # Asegúrate de importar IntegrityError\n",
    "\n",
    "\n",
    "# Obtener el total de filas en el DataFrame\n",
    "total_rows = len(songs)\n",
    "\n",
    "# Inicializar la barra de progreso\n",
    "progress_bar = tqdm(total=total_rows, desc=\"Procesando filas\")\n",
    "\n",
    "# Iterar sobre cada fila del DataFrame\n",
    "for index, row in songs.iterrows():\n",
    "    try:\n",
    "        # Intentar crear y agregar un nuevo usuario\n",
    "        song = CancionDB(titulo=row['traname'])\n",
    "        session.add(song)\n",
    "    except IntegrityError:\n",
    "        # Si hay un error de integridad, hacer rollback de la sesión para evitar abortar todo el proceso\n",
    "        session.rollback()\n",
    "        # Aquí podrías registrar el error o hacer algo con el registro que causó el problema\n",
    "        print(f\"Error al insertar usuario o canción para la fila {index}. Usuario o canción ya existen.\")\n",
    "    \n",
    "    # Actualizar la barra de progreso independientemente de si hubo un error o no\n",
    "    progress_bar.update(1)\n",
    "session.commit()\n",
    "\n",
    "# Cerrar la barra de progreso\n",
    "progress_bar.close()\n"
   ]
  },
  {
   "cell_type": "code",
   "execution_count": 71,
   "metadata": {},
   "outputs": [
    {
     "name": "stderr",
     "output_type": "stream",
     "text": [
      "Processing interactions:   0%|          | 855/4407910 [00:10<15:00:47, 81.54it/s]"
     ]
    }
   ],
   "source": [
    "import requests\n",
    "from tqdm import tqdm\n",
    "\n",
    "# Assuming df is your DataFrame containing interaction data\n",
    "total_rows = len(df)\n",
    "progress_bar = tqdm(total=total_rows, desc=\"Processing interactions\")\n",
    "\n",
    "# Base URL of your FastAPI application\n",
    "api_url = \"http://127.0.0.1:8000\"\n",
    "\n",
    "# Iterate over each row in the DataFrame\n",
    "for index, row in df.iterrows():\n",
    "    try:\n",
    "        # Prepare the data for the API request\n",
    "        user = session.query(UserDB).filter(UserDB.username == row['userid']).first()\n",
    "        song = session.query(CancionDB).filter(CancionDB.titulo == row['traname']).first()\n",
    "        iter = InteraccionDB(user_id=user.id, cancion_id=song.id, rating=float(row['frecuencia']), user=user, cancion=song)\n",
    "        session.add(iter)\n",
    "        \n",
    "        progress_bar.update(1)\n",
    "        \n",
    "    except IntegrityError:\n",
    "        # Si hay un error de integridad, hacer rollback de la sesión para evitar abortar todo el proceso\n",
    "        session.rollback()\n",
    "        # Aquí podrías registrar el error o hacer algo con el registro que causó el problema\n",
    "        print(f\"Error al insertar usuario o canción para la fila {index}. Usuario o canción ya existen.\")\n",
    "\n",
    "session.commit()\n",
    "        \n",
    "\n",
    "# Close the progress bar after processing all rows\n",
    "progress_bar.close()\n"
   ]
  },
  {
   "cell_type": "code",
   "execution_count": null,
   "metadata": {},
   "outputs": [],
   "source": [
    "# import requests\n",
    "\n",
    "# # Obtener el total de filas en el DataFrame\n",
    "# total_rows = len(df)\n",
    "# progress_bar = tqdm(total=total_rows, desc=\"Procesando filas\")\n",
    "\n",
    "# # Inicializar la barra de progreso\n",
    "# progress_bar = tqdm(total=total_rows, desc=\"Procesando interacciones\")\n",
    "# api_url = \"http://127.0.0.1:8000\"\n",
    "# endpoint = f\"{api_url}/interactions/\"\n",
    "\n",
    "# # Iterar sobre cada fila del DataFrame\n",
    "# for index, row in df.iterrows():\n",
    "\n",
    "#     try:\n",
    "#         user = session.query(UserDB).filter(UserDB.username == row['userid']).first()\n",
    "#         song = session.query(CancionDB).filter(CancionDB.titulo == row['traname']).first()\n",
    "\n",
    "#         # Create a new InteraccionDB instance \n",
    "#         data = {\n",
    "#         \"user_id\": user.id,\n",
    "#         \"cancion_id\": song.id,\n",
    "#         \"rating\": float(row['frecuencia'])\n",
    "#         }\n",
    "#         response = requests.post(endpoint, json=data)\n",
    "        \n",
    "#         progress_bar.update(1)\n",
    "#     except Exception as e:\n",
    "#         print(f\"Error: {e}\")\n",
    "\n",
    "#     finally:\n",
    "#         session.close()  # Close the session whether or not there was an error\n",
    "# progress_bar.close()"
   ]
  }
 ],
 "metadata": {
  "kernelspec": {
   "display_name": "Python 3",
   "language": "python",
   "name": "python3"
  },
  "language_info": {
   "codemirror_mode": {
    "name": "ipython",
    "version": 3
   },
   "file_extension": ".py",
   "mimetype": "text/x-python",
   "name": "python",
   "nbconvert_exporter": "python",
   "pygments_lexer": "ipython3",
   "version": "3.10.12"
  }
 },
 "nbformat": 4,
 "nbformat_minor": 2
}
